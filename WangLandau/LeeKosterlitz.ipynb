{
 "cells": [
  {
   "cell_type": "code",
   "execution_count": null,
   "metadata": {},
   "outputs": [],
   "source": [
    "import numpy as np\n",
    "import matplotlib.pyplot as plt\n",
    "import pandas as pd\n",
    "from scipy.interpolate import interp1d"
   ]
  },
  {
   "cell_type": "code",
   "execution_count": null,
   "metadata": {},
   "outputs": [],
   "source": [
    "def read_data(data):\n",
    "    \"\"\"Read the data from the file.\"\"\"\n",
    "    return np.loadtxt(data)"
   ]
  },
  {
   "cell_type": "code",
   "execution_count": null,
   "metadata": {},
   "outputs": [],
   "source": [
    "number = 16 # Value of the system size. Needs to be changed manually."
   ]
  },
  {
   "cell_type": "code",
   "execution_count": null,
   "metadata": {},
   "outputs": [],
   "source": [
    "name = f\"L{number}_J1.00_q8\"\n",
    "folder = f\"results/{name}/\"\n",
    "\n",
    "file = f\"{folder}{name}.txt\"\n",
    "\n",
    "q=int(name[-1])"
   ]
  },
  {
   "cell_type": "code",
   "execution_count": null,
   "metadata": {},
   "outputs": [],
   "source": [
    "lng = read_data(file)"
   ]
  },
  {
   "cell_type": "code",
   "execution_count": null,
   "metadata": {},
   "outputs": [],
   "source": [
    "lng = lng[lng[:, 1] > 1]\n",
    "\n",
    "def normalize_lng(lng_):\n",
    "    norm = np.log(8) + lng_ - lng_[0]\n",
    "    return norm\n",
    "\n",
    "lng[:, 1] = normalize_lng(lng[:, 1])"
   ]
  },
  {
   "cell_type": "code",
   "execution_count": null,
   "metadata": {},
   "outputs": [],
   "source": [
    "# save this data as a file txt with two columns\n",
    "savename = f\"{folder}{name}_no0.txt\"\n",
    "np.savetxt(savename, lng, fmt='%.6f %.6f')"
   ]
  },
  {
   "cell_type": "code",
   "execution_count": null,
   "metadata": {},
   "outputs": [],
   "source": [
    "beta_c = np.log(1 + np.sqrt(q))\n",
    "print(beta_c)"
   ]
  },
  {
   "cell_type": "code",
   "execution_count": null,
   "metadata": {},
   "outputs": [],
   "source": [
    "lng_df = pd.DataFrame(columns=[\"E\", \"lng\"])\n",
    "lng_df[\"E\"] = lng[:, 0]\n",
    "lng_df[\"lng\"] = lng[:, 1]"
   ]
  },
  {
   "cell_type": "code",
   "execution_count": null,
   "metadata": {},
   "outputs": [],
   "source": [
    "plt.plot(lng[:, 0], lng[:, 1], label=r\"L = %.0f\" % int(name[1]))\n",
    "plt.xlabel('E')\n",
    "plt.ylabel(r'log[$\\Omega$(E)]')\n",
    "plt.title(r\"Plot of $\\log[\\Omega(E)]$ obtained from the WL algorithm\")\n",
    "plt.legend(fontsize=12)\n",
    "plt.show()"
   ]
  },
  {
   "cell_type": "code",
   "execution_count": null,
   "metadata": {},
   "outputs": [],
   "source": [
    "from ipywidgets import interact, FloatSlider\n",
    "\n",
    "log_omega = lng[:, 1]\n",
    "E = lng[:, 0]\n",
    "\n",
    "def update_plot(beta):\n",
    "   \n",
    "    W = log_omega - beta * E\n",
    "    W_max = np.max(W)\n",
    "\n",
    "    log_Z = W_max + np.log(np.sum(np.exp(W - W_max)))\n",
    "\n",
    "    A_ = log_Z - W\n",
    "    \n",
    "    # Plotting\n",
    "    plt.figure(figsize=(6, 6))\n",
    "    plt.plot(-E, A_, label=f'beta={beta}')\n",
    "    plt.xlabel('E')\n",
    "    plt.ylabel('A(E)')\n",
    "    plt.title('A(E)')\n",
    "\n",
    "    plt.legend()\n",
    "    plt.grid()\n",
    "    plt.show()\n",
    "\n",
    "# Interactive slider\n",
    "interact(update_plot, beta=FloatSlider(value=beta_c, min=0, max=4, step=0.0001))\n"
   ]
  },
  {
   "cell_type": "code",
   "execution_count": null,
   "metadata": {},
   "outputs": [],
   "source": [
    "# Obtain A\n",
    "log_omega = lng[:, 1]\n",
    "E = lng[:, 0]\n",
    "beta = 1.330342\t\n",
    "W = log_omega - beta * E\n",
    "W_max = np.max(W)\n",
    "\n",
    "log_Z = W_max + np.log(np.sum(np.exp(W - W_max)))\n",
    "\n",
    "A_ = log_Z - W \n",
    "\n",
    "plt.plot(-E[(E < -190) & (E > -490)], A_[(E < -190) & (E > -490)], label='A(E)')\n",
    "plt.xlabel(r'$-E$', fontsize=14)\n",
    "plt.ylabel(r'$A(E)$', fontsize=14)\n",
    "plt.title(r'A(E) = $- \\log[\\Omega] + \\beta E - \\log[Z]$', fontsize=16)\n",
    "plt.legend(fontsize=12)\n",
    "plt.show()\n"
   ]
  },
  {
   "cell_type": "code",
   "execution_count": null,
   "metadata": {},
   "outputs": [],
   "source": [
    "def A(E, beta):\n",
    "    W = log_omega - beta * E\n",
    "    W_max = np.max(W)\n",
    "    log_Z = W_max + np.log(np.sum(np.exp(W - W_max)))\n",
    "    return log_Z - W"
   ]
  },
  {
   "cell_type": "code",
   "execution_count": null,
   "metadata": {},
   "outputs": [],
   "source": [
    "def search_minima(beta, min, max):\n",
    "    \"\"\"\n",
    "    Search for the minima of A(E) for a given beta.\n",
    "    \n",
    "    Parameters:\n",
    "    -----------\n",
    "    beta: np.array\n",
    "        Values of beta to search the minima.\n",
    "    \"\"\"\n",
    "    E_A = [] # must be a list of arrays with the values of E and A for each minima for each beta\n",
    "    diff = []\n",
    "    E_max = []\n",
    "    A_max = []\n",
    "    for b in beta:\n",
    "        A_int = A(E, b)\n",
    "        A_int = interp1d(-E, A_int, kind='cubic')\n",
    "\n",
    "        E_interp = np.linspace(min, max, 1000)\n",
    "\n",
    "        # sort the values of A and E according to A sorted\n",
    "        A_sorted = np.sort(A_int(E_interp))\n",
    "        E_sorted = E_interp[np.argsort(A_int(E_interp))]\n",
    "\n",
    "        E_sor = []\n",
    "        A_sor = []\n",
    "        E_sor.append(E_sorted[0])\n",
    "        A_sor.append(A_sorted[0])\n",
    "\n",
    "        \n",
    "\n",
    "        for i in range(1, E_sorted.size):\n",
    "            if np.abs(E_sorted[i] - E_sorted[0]) > 40:\n",
    "                E_sor.append(E_sorted[i])\n",
    "                A_sor.append(A_sorted[i])\n",
    "                break\n",
    "        E_A.append(np.column_stack((E_sor, A_sor)))\n",
    "        diff.append(np.abs(A_sor[0]-A_sor[1]))\n",
    "        \n",
    "        # E between E_sor[0] and E_sor[1]\n",
    "        A_aux = 0\n",
    "        if E_sor[0] > E_sor[1]:\n",
    "            A_aux = np.max(A_int(E_interp)[(E_interp >= E_sor[1]) & (E_interp <= E_sor[0])])\n",
    "            \n",
    "        else:\n",
    "            A_aux = np.max(A_int(E_interp)[(E_interp >= E_sor[0]) & (E_interp <= E_sor[1])])\n",
    "        E_max.append(E_interp[np.where(A_int(E_interp) == A_aux)])\n",
    "        A_max.append(A_aux)\n",
    "\n",
    "    # print the value of E that corresponds to A_aux\n",
    "        \n",
    "    E_A = np.array(E_A)\n",
    "    diff = np.array(diff)\n",
    "    E_max = np.array(E_max)\n",
    "    A_max = np.array(A_max)\n",
    "    \n",
    "    # sort diff from lowest to highest\n",
    "    EA = E_A[np.argsort(diff)]\n",
    "    E_max = E_max[np.argsort(diff)]\n",
    "    A_max = A_max[np.argsort(diff)]\n",
    "\n",
    "    # dataframe with columns beta_sorted, E_A, diff\n",
    "    df = pd.DataFrame({'beta_sorted': beta[np.argsort(diff)], 'E_min_0': EA[:, 0, 0], 'E_min_1': EA[:, 1, 0], 'A_0': EA[:, 0, 1], 'A_1': EA[:, 1, 1], 'diff': np.sort(diff), 'E_max': E_max[:, 0], 'A_max': A_max})\n",
    "    \n",
    "    return df\n"
   ]
  },
  {
   "cell_type": "code",
   "execution_count": null,
   "metadata": {},
   "outputs": [],
   "source": [
    "ranges = {\"L9\": [50, 147], \"L10\": [65, 185], \"L11\": [90, 230], \"L12\": [95, 280], \"L14\": [160, 360], \"L16\": [190, 490]}"
   ]
  },
  {
   "cell_type": "code",
   "execution_count": null,
   "metadata": {},
   "outputs": [],
   "source": [
    "beta = np.linspace(beta_c-0.1, beta_c+0.1, 1000)\n",
    "beta_df = search_minima(beta, ranges[f\"L{number}\"][0], ranges[f\"L{number}\"][1])"
   ]
  },
  {
   "cell_type": "code",
   "execution_count": null,
   "metadata": {},
   "outputs": [],
   "source": [
    "plt.plot(-E, A(E, beta_df[\"beta_sorted\"][0])), label=r'L = , $\\beta$ = {:.4f}'.format(beta_df[\"beta_sorted\"][0]))\n",
    "plt.scatter(beta_df[\"E_min_0\"][0], beta_df[\"A_0\"][0], color='red')\n",
    "plt.scatter(beta_df[\"E_min_1\"][0], beta_df[\"A_1\"][0], color='red')\n",
    "plt.scatter(beta_df[\"E_max\"][0], beta_df[\"A_max\"][0], color='green')\n",
    "# add text with the value of the difference \n",
    "deltaF = beta_df[\"A_max\"][0] - ((beta_df[\"A_0\"][0] + beta_df[\"A_1\"][0])/2)\n",
    "plt.text(330, 5.3, r\"$\\Delta F = {:.4f}$\".format(deltaF), fontsize=10)\n",
    "\n",
    "plt.arrow(beta_df[\"E_max\"][0], beta_df[\"A_0\"][0]+0.15, 0, beta_df[\"A_max\"][0]-beta_df[\"A_0\"][0]-0.3, head_width=5, head_length=0.1, fc='black', ec='black')\n",
    "plt.arrow(beta_df[\"E_max\"][0], beta_df[\"A_max\"][0]-0.15, 0, -beta_df[\"A_max\"][0]+beta_df[\"A_0\"][0]+0.3, head_width=5, head_length=0.1, fc='black', ec='black')\n",
    "\n",
    "plt.axhline(y=beta_df[\"A_max\"][0], color='green', xmin=0.3, xmax=0.6, linestyle='--')\n",
    "plt.axhline(y=(beta_df[\"A_0\"][0] + beta_df[\"A_1\"][0])/2,  xmin=0.1, xmax=0.9, color='red', linestyle='--')\n",
    "\n",
    "plt.xlabel(r'$-E$', fontsize=14)\n",
    "plt.ylabel(r'$A(E)$', fontsize=14)\n",
    "plt.xlim(ranges[f\"L{number}\"][0], ranges[f\"L{number}\"][1])\n",
    "plt.ylim(4, 7)\n",
    "plt.title(rf'$A(E)$ for $L={number}$, $q=8$, $\\beta$ = {beta_df[\"beta_sorted\"][0]:.5}', fontsize=14)\n",
    "plt.savefig(f\"../images/A{number}.png\")\n",
    "plt.show()\n"
   ]
  },
  {
   "cell_type": "code",
   "execution_count": null,
   "metadata": {},
   "outputs": [],
   "source": [
    "deltaF = beta_df[\"A_max\"][0] - ((beta_df[\"A_0\"][0] + beta_df[\"A_1\"][0])/2)\n",
    "print(((beta_df[\"A_0\"][0] + beta_df[\"A_1\"][0])/2))\n",
    "print(deltaF)"
   ]
  },
  {
   "cell_type": "code",
   "execution_count": null,
   "metadata": {},
   "outputs": [],
   "source": [
    "L_deltaF = np.loadtxt(\"L_deltaF.txt\")\n",
    "\n",
    "plt.scatter(L_deltaF[:, 0], L_deltaF[:, 1], label=r'$\\Delta$F')\n",
    "plt.xlabel(r'$L$', fontsize=14)\n",
    "plt.ylabel(r'$\\Delta$F', fontsize=14)\n",
    "plt.title(r'$\\Delta$F vs L', fontsize=14)\n",
    "plt.legend()\n",
    "plt.show()"
   ]
  },
  {
   "cell_type": "code",
   "execution_count": null,
   "metadata": {},
   "outputs": [],
   "source": [
    "# fit the data with a line\n",
    "from scipy.optimize import curve_fit\n",
    "\n",
    "def linear(x, a, b):\n",
    "    return a*x + b\n",
    "\n",
    "popt, pcov = curve_fit(linear, L_deltaF[:, 0], L_deltaF[:, 1])\n",
    "\n",
    "plt.scatter(L_deltaF[:, 0], L_deltaF[:, 1], label=r'$\\Delta$F')\n",
    "plt.plot(L_deltaF[:, 0], linear(L_deltaF[:, 0], *popt), label='Linear fit', color='tab:orange', linestyle='--')\n",
    "plt.xlabel(r'$L$', fontsize=14)\n",
    "plt.ylabel(r'$\\Delta$F', fontsize=14)\n",
    "plt.title(r'$\\Delta$F vs L', fontsize=14)\n",
    "plt.legend()\n",
    "plt.show()"
   ]
  },
  {
   "cell_type": "code",
   "execution_count": null,
   "metadata": {},
   "outputs": [],
   "source": [
    "# print constants and their error\n",
    "print(popt)\n",
    "print(np.sqrt(np.diag(pcov)))\n",
    "\n"
   ]
  }
 ],
 "metadata": {
  "kernelspec": {
   "display_name": "base",
   "language": "python",
   "name": "python3"
  },
  "language_info": {
   "codemirror_mode": {
    "name": "ipython",
    "version": 3
   },
   "file_extension": ".py",
   "mimetype": "text/x-python",
   "name": "python",
   "nbconvert_exporter": "python",
   "pygments_lexer": "ipython3",
   "version": "3.12.2"
  }
 },
 "nbformat": 4,
 "nbformat_minor": 2
}
